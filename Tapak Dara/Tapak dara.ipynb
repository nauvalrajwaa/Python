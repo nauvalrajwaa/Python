{
 "cells": [
  {
   "cell_type": "markdown",
   "metadata": {},
   "source": [
    "# Morphological and anatomical differences of Catharanthus roseus (Periwinkle)"
   ]
  },
  {
   "cell_type": "markdown",
   "metadata": {},
   "source": [
    "<img src=\"TapakDara.jpg\"/>"
   ]
  },
  {
   "cell_type": "code",
   "execution_count": 17,
   "metadata": {},
   "outputs": [],
   "source": [
    "# Import the necessary module \n",
    "import numpy as np\n",
    "import pandas as pd\n",
    "\n",
    "import bokeh_catplot\n",
    "import bokeh.plotting\n",
    "import bokeh.io\n",
    "from bokeh.plotting import figure, show\n",
    "from bokeh.models import ColumnDataSource, FactorRange\n",
    "from bokeh.transform import factor_cmap\n",
    "from bokeh.palettes import Spectral3\n",
    "from bokeh.io import output_file, show\n",
    "from bokeh.io import output_file, show\n",
    "\n"
   ]
  },
  {
   "cell_type": "code",
   "execution_count": 18,
   "metadata": {},
   "outputs": [
    {
     "data": {
      "text/html": [
       "<div>\n",
       "<style scoped>\n",
       "    .dataframe tbody tr th:only-of-type {\n",
       "        vertical-align: middle;\n",
       "    }\n",
       "\n",
       "    .dataframe tbody tr th {\n",
       "        vertical-align: top;\n",
       "    }\n",
       "\n",
       "    .dataframe thead th {\n",
       "        text-align: right;\n",
       "    }\n",
       "</style>\n",
       "<table border=\"1\" class=\"dataframe\">\n",
       "  <thead>\n",
       "    <tr style=\"text-align: right;\">\n",
       "      <th></th>\n",
       "      <th>Ketinggian</th>\n",
       "      <th>PanjangDaun_cm</th>\n",
       "      <th>LebarDaun_cm</th>\n",
       "      <th>DiameterBatang_cm</th>\n",
       "      <th>PanjangNodus_cm</th>\n",
       "      <th>TinggiTanaman_cm</th>\n",
       "    </tr>\n",
       "  </thead>\n",
       "  <tbody>\n",
       "    <tr>\n",
       "      <th>0</th>\n",
       "      <td>Pesisir</td>\n",
       "      <td>6.545</td>\n",
       "      <td>3.125</td>\n",
       "      <td>1.9425</td>\n",
       "      <td>2.275</td>\n",
       "      <td>34.5600</td>\n",
       "    </tr>\n",
       "    <tr>\n",
       "      <th>1</th>\n",
       "      <td>Menengah (100-300 mdpl)</td>\n",
       "      <td>4.765</td>\n",
       "      <td>2.595</td>\n",
       "      <td>2.9045</td>\n",
       "      <td>1.655</td>\n",
       "      <td>40.6600</td>\n",
       "    </tr>\n",
       "    <tr>\n",
       "      <th>2</th>\n",
       "      <td>Tinggi (&gt;800 mdpl)</td>\n",
       "      <td>7.250</td>\n",
       "      <td>3.025</td>\n",
       "      <td>5.3800</td>\n",
       "      <td>1.550</td>\n",
       "      <td>60.5375</td>\n",
       "    </tr>\n",
       "  </tbody>\n",
       "</table>\n",
       "</div>"
      ],
      "text/plain": [
       "                Ketinggian  PanjangDaun_cm  LebarDaun_cm  DiameterBatang_cm  \\\n",
       "0                  Pesisir           6.545         3.125             1.9425   \n",
       "1  Menengah (100-300 mdpl)           4.765         2.595             2.9045   \n",
       "2       Tinggi (>800 mdpl)           7.250         3.025             5.3800   \n",
       "\n",
       "   PanjangNodus_cm  TinggiTanaman_cm  \n",
       "0            2.275           34.5600  \n",
       "1            1.655           40.6600  \n",
       "2            1.550           60.5375  "
      ]
     },
     "execution_count": 18,
     "metadata": {},
     "output_type": "execute_result"
    }
   ],
   "source": [
    "# Read the morfology data \n",
    "morfology = pd.read_csv('DataRawMorfology.csv')\n",
    "morfology.head()"
   ]
  },
  {
   "cell_type": "code",
   "execution_count": 19,
   "metadata": {},
   "outputs": [
    {
     "data": {
      "text/html": [
       "<div>\n",
       "<style scoped>\n",
       "    .dataframe tbody tr th:only-of-type {\n",
       "        vertical-align: middle;\n",
       "    }\n",
       "\n",
       "    .dataframe tbody tr th {\n",
       "        vertical-align: top;\n",
       "    }\n",
       "\n",
       "    .dataframe thead th {\n",
       "        text-align: right;\n",
       "    }\n",
       "</style>\n",
       "<table border=\"1\" class=\"dataframe\">\n",
       "  <thead>\n",
       "    <tr style=\"text-align: right;\">\n",
       "      <th></th>\n",
       "      <th>Variabel</th>\n",
       "      <th>Pesisir</th>\n",
       "      <th>Menengah (100-300 mdpl)</th>\n",
       "      <th>Tinggi (&gt;800 mdpl)</th>\n",
       "    </tr>\n",
       "  </thead>\n",
       "  <tbody>\n",
       "    <tr>\n",
       "      <th>0</th>\n",
       "      <td>PanjangEpidermisAtas_(µm)</td>\n",
       "      <td>28.31</td>\n",
       "      <td>23.01</td>\n",
       "      <td>25.398333</td>\n",
       "    </tr>\n",
       "    <tr>\n",
       "      <th>1</th>\n",
       "      <td>LebarEpidermisAtas_(µm)</td>\n",
       "      <td>22.82</td>\n",
       "      <td>20.45</td>\n",
       "      <td>20.507222</td>\n",
       "    </tr>\n",
       "    <tr>\n",
       "      <th>2</th>\n",
       "      <td>KerapatanEpidermisAtas_(∑/mm2)</td>\n",
       "      <td>118.00</td>\n",
       "      <td>219.00</td>\n",
       "      <td>60.000000</td>\n",
       "    </tr>\n",
       "    <tr>\n",
       "      <th>3</th>\n",
       "      <td>PanjangEpidermisBawah_(µm)</td>\n",
       "      <td>26.82</td>\n",
       "      <td>20.85</td>\n",
       "      <td>24.498333</td>\n",
       "    </tr>\n",
       "    <tr>\n",
       "      <th>4</th>\n",
       "      <td>LebarEpidermisBawah_(µm)</td>\n",
       "      <td>21.24</td>\n",
       "      <td>18.53</td>\n",
       "      <td>20.326000</td>\n",
       "    </tr>\n",
       "  </tbody>\n",
       "</table>\n",
       "</div>"
      ],
      "text/plain": [
       "                         Variabel  Pesisir  Menengah (100-300 mdpl)  \\\n",
       "0       PanjangEpidermisAtas_(µm)    28.31                    23.01   \n",
       "1         LebarEpidermisAtas_(µm)    22.82                    20.45   \n",
       "2  KerapatanEpidermisAtas_(∑/mm2)   118.00                   219.00   \n",
       "3      PanjangEpidermisBawah_(µm)    26.82                    20.85   \n",
       "4        LebarEpidermisBawah_(µm)    21.24                    18.53   \n",
       "\n",
       "   Tinggi (>800 mdpl)  \n",
       "0           25.398333  \n",
       "1           20.507222  \n",
       "2           60.000000  \n",
       "3           24.498333  \n",
       "4           20.326000  "
      ]
     },
     "execution_count": 19,
     "metadata": {},
     "output_type": "execute_result"
    }
   ],
   "source": [
    "# Read the anatomy data\n",
    "anatomy = pd.read_csv('DataRawAnatomy.csv')\n",
    "anatomy.head()"
   ]
  },
  {
   "cell_type": "code",
   "execution_count": 20,
   "metadata": {},
   "outputs": [
    {
     "data": {
      "text/plain": [
       "['Ketinggian',\n",
       " 'PanjangDaun_cm',\n",
       " 'LebarDaun_cm',\n",
       " 'DiameterBatang_cm',\n",
       " 'PanjangNodus_cm',\n",
       " 'TinggiTanaman_cm']"
      ]
     },
     "execution_count": 20,
     "metadata": {},
     "output_type": "execute_result"
    }
   ],
   "source": [
    "# Check morfology columns\n",
    "morfology.columns.unique().to_list()"
   ]
  },
  {
   "cell_type": "code",
   "execution_count": 21,
   "metadata": {},
   "outputs": [
    {
     "data": {
      "text/plain": [
       "['Variabel', 'Pesisir', 'Menengah (100-300 mdpl)', 'Tinggi (>800 mdpl)']"
      ]
     },
     "execution_count": 21,
     "metadata": {},
     "output_type": "execute_result"
    }
   ],
   "source": [
    "# Check anatomy columns\n",
    "anatomy.columns.unique().to_list()"
   ]
  },
  {
   "cell_type": "markdown",
   "metadata": {},
   "source": [
    "## Morfology Check"
   ]
  },
  {
   "cell_type": "code",
   "execution_count": 22,
   "metadata": {},
   "outputs": [
    {
     "data": {
      "text/plain": [
       "['Ketinggian',\n",
       " 'PanjangDaun_cm',\n",
       " 'LebarDaun_cm',\n",
       " 'DiameterBatang_cm',\n",
       " 'PanjangNodus_cm',\n",
       " 'TinggiTanaman_cm']"
      ]
     },
     "execution_count": 22,
     "metadata": {},
     "output_type": "execute_result"
    }
   ],
   "source": [
    "# Redefine Morfology Data\n",
    "df = pd.read_csv('DataRawMorfology.csv', comment='#')\n",
    "\n",
    "df.columns.unique().to_list()"
   ]
  },
  {
   "cell_type": "code",
   "execution_count": 23,
   "metadata": {},
   "outputs": [
    {
     "data": {
      "text/plain": [
       "[('PanjangDaun_cm', 'Pesisir'),\n",
       " ('PanjangDaun_cm', 'Menengah (100-300 mdpl)'),\n",
       " ('PanjangDaun_cm', 'Tinggi (>800 mdpl)'),\n",
       " ('LebarDaun_cm', 'Pesisir'),\n",
       " ('LebarDaun_cm', 'Menengah (100-300 mdpl)'),\n",
       " ('LebarDaun_cm', 'Tinggi (>800 mdpl)'),\n",
       " ('DiameterBatang_cm', 'Pesisir'),\n",
       " ('DiameterBatang_cm', 'Menengah (100-300 mdpl)'),\n",
       " ('DiameterBatang_cm', 'Tinggi (>800 mdpl)'),\n",
       " ('PanjangNodus_cm', 'Pesisir'),\n",
       " ('PanjangNodus_cm', 'Menengah (100-300 mdpl)'),\n",
       " ('PanjangNodus_cm', 'Tinggi (>800 mdpl)'),\n",
       " ('TinggiTanaman_cm', 'Pesisir'),\n",
       " ('TinggiTanaman_cm', 'Menengah (100-300 mdpl)'),\n",
       " ('TinggiTanaman_cm', 'Tinggi (>800 mdpl)')]"
      ]
     },
     "execution_count": 23,
     "metadata": {},
     "output_type": "execute_result"
    }
   ],
   "source": [
    "# Create nested variable graph\n",
    "variasi = [ (col, cls) for col in df.columns[1:] for cls in df.Ketinggian.unique()]\n",
    "variasi"
   ]
  },
  {
   "cell_type": "code",
   "execution_count": 24,
   "metadata": {},
   "outputs": [],
   "source": [
    "# Create value from each bar\n",
    "counts = sum(zip(df['DiameterBatang_cm'],  \n",
    "               df['LebarDaun_cm'],  \n",
    "               df['PanjangDaun_cm'],  \n",
    "               df['PanjangNodus_cm'],\n",
    "               df['TinggiTanaman_cm']), ())"
   ]
  },
  {
   "cell_type": "code",
   "execution_count": 25,
   "metadata": {},
   "outputs": [],
   "source": [
    "# create the dicti \n",
    "df = dict(variasi = variasi, counts = counts)"
   ]
  },
  {
   "cell_type": "code",
   "execution_count": 26,
   "metadata": {},
   "outputs": [],
   "source": [
    "source= ColumnDataSource(data = df) \n"
   ]
  },
  {
   "cell_type": "code",
   "execution_count": 27,
   "metadata": {},
   "outputs": [],
   "source": [
    "# Morfology graph\n",
    "p = figure(x_range=FactorRange(*variasi),  \n",
    "           height=350,\n",
    "           width=2450,\n",
    "           toolbar_location=\"left\"\n",
    "            ) \n",
    "  \n",
    "# Vertical bar chaRT \n",
    "p.vbar(x='variasi',  \n",
    "       top='counts', \n",
    "       width=0.95,  \n",
    "       source=source,\n",
    "       line_color=\"white\",\n",
    "       ) \n",
    "\n",
    "# Orintation of text \n",
    "p.title.text = \"Catharanthus roseus Morfology\"\n",
    "p.title.align = \"center\"\n",
    "p.y_range.start = 0\n",
    "p.xaxis.major_label_orientation = 1\n",
    "p.x_range.range_padding = 0.1\n",
    "p.xgrid.grid_line_color = None\n",
    "show(p)"
   ]
  },
  {
   "cell_type": "markdown",
   "metadata": {},
   "source": [
    "<img src=\"bokeh_plotfixxxx.png\"/>"
   ]
  },
  {
   "cell_type": "markdown",
   "metadata": {},
   "source": [
    "## Anatomy Check"
   ]
  },
  {
   "cell_type": "code",
   "execution_count": 28,
   "metadata": {},
   "outputs": [],
   "source": [
    "# Redefine Anatomy Data\n",
    "df_2 = pd.read_csv('DataRawAnatomy.csv', comment='#')\n",
    "\n",
    "column = df_2.columns.unique().to_list()"
   ]
  },
  {
   "cell_type": "code",
   "execution_count": 29,
   "metadata": {},
   "outputs": [
    {
     "data": {
      "text/plain": [
       "['Variabel', 'Pesisir', 'Menengah (100-300 mdpl)', 'Tinggi (>800 mdpl)']"
      ]
     },
     "execution_count": 29,
     "metadata": {},
     "output_type": "execute_result"
    }
   ],
   "source": [
    "column"
   ]
  },
  {
   "cell_type": "code",
   "execution_count": 30,
   "metadata": {},
   "outputs": [
    {
     "data": {
      "text/plain": [
       "['PanjangEpidermisAtas_(µm)',\n",
       " 'LebarEpidermisAtas_(µm)',\n",
       " 'KerapatanEpidermisAtas_(∑/mm2)',\n",
       " 'PanjangEpidermisBawah_(µm)',\n",
       " 'LebarEpidermisBawah_(µm)',\n",
       " 'KerapatanEpidermisBawah_(∑/mm2)',\n",
       " 'KerapatanTrikomaEpidermisAtas',\n",
       " 'KerapatanTrikomaEpidermisBawah',\n",
       " 'TebalKutikulaAtas_(µm) ',\n",
       " 'TebalKutikulaBawah_(µm) ',\n",
       " 'TebalEpidermisAtas_(µm) ',\n",
       " 'TebalEpidermisBawah_(µm) ',\n",
       " 'TebalPalisade_(µm)',\n",
       " 'TebalSponge_(µm)',\n",
       " 'TebalDaun_(µm)',\n",
       " 'Diameter_Batang_(µm)',\n",
       " 'Diameter_Akar_(µm)']"
      ]
     },
     "execution_count": 30,
     "metadata": {},
     "output_type": "execute_result"
    }
   ],
   "source": [
    "df_2['Variabel'].to_list()"
   ]
  },
  {
   "cell_type": "code",
   "execution_count": 31,
   "metadata": {},
   "outputs": [],
   "source": [
    "Subjects = ['Pesisir', 'Menengah (100-300 mdpl)', 'Tinggi (>800 mdpl)']\n",
    "cols = ['#00ff00', '#009900', '#00cc99'] \n"
   ]
  },
  {
   "cell_type": "code",
   "execution_count": 32,
   "metadata": {},
   "outputs": [],
   "source": [
    "# Anatomy graph\n",
    "fig = figure(x_range=df_2['Variabel'], \n",
    "             height=550,\n",
    "             width=3450, \n",
    "             title=\"Marks counts of every students according to subjects\") \n",
    "fig.vbar_stack(Subjects, \n",
    "               x='Variabel', \n",
    "               source=df_2, \n",
    "               color=cols, \n",
    "               width=0.5, \n",
    "               legend_label=Subjects) \n",
    "# Display Stack Graph \n",
    "fig.title.text = \"Catharanthus roseus Anatomy\"\n",
    "fig.title.align = \"center\"\n",
    "fig.y_range.start = 0\n",
    "fig.xaxis.major_label_orientation = 1\n",
    "fig.x_range.range_padding = 0.1\n",
    "fig.xgrid.grid_line_color = None\n",
    "show(fig) "
   ]
  },
  {
   "cell_type": "markdown",
   "metadata": {},
   "source": [
    "<img src=\"bokeh_plotstackeddd.png\"/>"
   ]
  }
 ],
 "metadata": {
  "kernelspec": {
   "display_name": "Python 3",
   "language": "python",
   "name": "python3"
  },
  "language_info": {
   "codemirror_mode": {
    "name": "ipython",
    "version": 3
   },
   "file_extension": ".py",
   "mimetype": "text/x-python",
   "name": "python",
   "nbconvert_exporter": "python",
   "pygments_lexer": "ipython3",
   "version": "3.11.4"
  }
 },
 "nbformat": 4,
 "nbformat_minor": 2
}
