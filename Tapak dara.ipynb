{
 "cells": [
  {
   "cell_type": "code",
   "execution_count": 50,
   "metadata": {},
   "outputs": [
    {
     "name": "stderr",
     "output_type": "stream",
     "text": [
      "/Library/Frameworks/Python.framework/Versions/3.11/lib/python3.11/site-packages/bokeh_catplot/__init__.py:13: DeprecationWarning: bokeh-catplot is deprecated. Use iqplot instead.\n",
      "  warnings.warn(\"bokeh-catplot is deprecated. Use iqplot instead.\", DeprecationWarning)\n"
     ]
    }
   ],
   "source": [
    "import numpy as np\n",
    "import pandas as pd\n",
    "\n",
    "import bokeh_catplot\n",
    "\n",
    "import bokeh.plotting\n",
    "import bokeh.io"
   ]
  },
  {
   "cell_type": "code",
   "execution_count": 7,
   "metadata": {},
   "outputs": [
    {
     "name": "stdout",
     "output_type": "stream",
     "text": [
      "                    Tinggi  Panjang Daun (cm)  Lebar Daun (cm)  \\\n",
      "0                  Pesisir              6.545            3.125   \n",
      "1  Menengah (100-300 mdpl)              4.765            2.595   \n",
      "2       Tinggi (>800 mdpl)              7.250            3.025   \n",
      "\n",
      "   Ratio Panjang & Lebar Daun  Diameter Batang (cm)  Panjang Nodus (cm)  \\\n",
      "0                    2.094400                1.9425               2.275   \n",
      "1                    1.836224                2.9045               1.655   \n",
      "2                    2.396694                5.3800               1.550   \n",
      "\n",
      "   Tinggi Tanaman (cm)  \n",
      "0              34.5600  \n",
      "1              40.6600  \n",
      "2              60.5375  \n",
      "                    Tinggi  Panjang Epidermis Atas (µm)  \\\n",
      "0                  Pesisir                    28.310000   \n",
      "1  Menengah (100-300 mdpl)                    23.010000   \n",
      "2       Tinggi (>800 mdpl)                    25.398333   \n",
      "\n",
      "   Lebar Epidermis Atas (µm)  Kerapatan Epidermis Atas (∑/mm2)  \\\n",
      "0                  22.820000                               118   \n",
      "1                  20.450000                               219   \n",
      "2                  20.507222                                60   \n",
      "\n",
      "   Panjang Epidermis Bawah (µm)  Lebar Epidermis  Bawah (µm)  \\\n",
      "0                     26.820000                       21.240   \n",
      "1                     20.850000                       18.530   \n",
      "2                     24.498333                       20.326   \n",
      "\n",
      "   Kerapatan Epidermis Bawah (∑/mm2)  Kerapatan Trikoma Epidermis Atas  \\\n",
      "0                                279                                10   \n",
      "1                                433                                20   \n",
      "2                                289                                20   \n",
      "\n",
      "   Kerapatan Trikoma Epidermis Bawah  Tebal Kutikula Atas (µm)   \\\n",
      "0                                 24                  12.830000   \n",
      "1                                 48                   1.660000   \n",
      "2                                 35                   1.868222   \n",
      "\n",
      "   Tebal Kutikula Bawah (µm)   Tebal Epidermis Atas (µm)   \\\n",
      "0                   11.080000                   25.610000   \n",
      "1                    1.470000                   18.460000   \n",
      "2                    1.207444                   18.972222   \n",
      "\n",
      "   Tebal Epidermis Bawah (µm)   Tebal Palisade (µm)  Tebal Sponge (µm)  \\\n",
      "0                    16.630000            71.370000         103.300000   \n",
      "1                    11.610000            73.190000          92.200000   \n",
      "2                    15.170889            65.634778          71.739667   \n",
      "\n",
      "   Tebal Daun (µm)  Diameter Batang (µm)  Diameter Akar (µm)  \n",
      "0       240.820000                 25.77               26.40  \n",
      "1       198.570000                 22.83               25.03  \n",
      "2       174.593222                 22.62               25.84  \n"
     ]
    }
   ],
   "source": [
    "morfology = pd.read_csv('Morfology.csv')\n",
    "anatomy = pd.read_csv('Anatomy.csv')\n",
    "\n",
    "print(morfology.head())\n",
    "print(anatomy.head())"
   ]
  },
  {
   "cell_type": "code",
   "execution_count": 14,
   "metadata": {},
   "outputs": [],
   "source": [
    "p = bokeh.plotting.figure(\n",
    "    height=250,\n",
    "    width=250,\n",
    "    y_axis_label='Lebar Daun (',\n",
    "    x_range=morfology['Tinggi'].unique(),\n",
    ")\n",
    "\n",
    "p.vbar(\n",
    "    source=morfology,\n",
    "    x='Tinggi',\n",
    "    top='Lebar Daun (cm)',\n",
    "    width=0.6\n",
    ")\n",
    "\n",
    "p.xgrid.grid_line_color = None\n",
    "p.y_range.start = 0\n",
    "\n",
    "bokeh.io.show(p)"
   ]
  },
  {
   "cell_type": "code",
   "execution_count": 28,
   "metadata": {},
   "outputs": [
    {
     "data": {
      "text/plain": [
       "['Tinggi',\n",
       " 'Panjang Daun (cm)',\n",
       " 'Lebar Daun (cm)',\n",
       " 'Ratio Panjang & Lebar Daun',\n",
       " 'Diameter Batang (cm)',\n",
       " 'Panjang Nodus (cm)',\n",
       " 'Tinggi Tanaman (cm)']"
      ]
     },
     "execution_count": 28,
     "metadata": {},
     "output_type": "execute_result"
    }
   ],
   "source": [
    "morfology.columns.unique().to_list()"
   ]
  },
  {
   "cell_type": "code",
   "execution_count": 42,
   "metadata": {},
   "outputs": [
    {
     "data": {
      "text/html": [
       "<div>\n",
       "<style scoped>\n",
       "    .dataframe tbody tr th:only-of-type {\n",
       "        vertical-align: middle;\n",
       "    }\n",
       "\n",
       "    .dataframe tbody tr th {\n",
       "        vertical-align: top;\n",
       "    }\n",
       "\n",
       "    .dataframe thead th {\n",
       "        text-align: right;\n",
       "    }\n",
       "</style>\n",
       "<table border=\"1\" class=\"dataframe\">\n",
       "  <thead>\n",
       "    <tr style=\"text-align: right;\">\n",
       "      <th></th>\n",
       "      <th>Tinggi</th>\n",
       "      <th>Lebar Daun (cm)</th>\n",
       "      <th>Panjang Daun (cm)</th>\n",
       "    </tr>\n",
       "  </thead>\n",
       "  <tbody>\n",
       "    <tr>\n",
       "      <th>0</th>\n",
       "      <td>Menengah (100-300 mdpl)</td>\n",
       "      <td>2.595</td>\n",
       "      <td>4.765</td>\n",
       "    </tr>\n",
       "    <tr>\n",
       "      <th>1</th>\n",
       "      <td>Pesisir</td>\n",
       "      <td>3.125</td>\n",
       "      <td>6.545</td>\n",
       "    </tr>\n",
       "    <tr>\n",
       "      <th>2</th>\n",
       "      <td>Tinggi (&gt;800 mdpl)</td>\n",
       "      <td>3.025</td>\n",
       "      <td>7.250</td>\n",
       "    </tr>\n",
       "  </tbody>\n",
       "</table>\n",
       "</div>"
      ],
      "text/plain": [
       "                    Tinggi  Lebar Daun (cm)  Panjang Daun (cm)\n",
       "0  Menengah (100-300 mdpl)            2.595              4.765\n",
       "1                  Pesisir            3.125              6.545\n",
       "2       Tinggi (>800 mdpl)            3.025              7.250"
      ]
     },
     "execution_count": 42,
     "metadata": {},
     "output_type": "execute_result"
    }
   ],
   "source": [
    "df_mean = morfology.groupby(['Tinggi', 'Lebar Daun (cm)'])['Panjang Daun (cm)'].mean().reset_index()\n",
    "df_mean"
   ]
  },
  {
   "cell_type": "code",
   "execution_count": 74,
   "metadata": {},
   "outputs": [],
   "source": [
    "p = bokeh_catplot.strip(\n",
    "    data=df,\n",
    "    cats=['ID', 'trial number'],\n",
    "    val='impact force (mN)',\n",
    "    color_column='trial number',\n",
    ")\n",
    "\n",
    "bokeh.io.show(p)"
   ]
  }
 ],
 "metadata": {
  "kernelspec": {
   "display_name": "Python 3",
   "language": "python",
   "name": "python3"
  },
  "language_info": {
   "codemirror_mode": {
    "name": "ipython",
    "version": 3
   },
   "file_extension": ".py",
   "mimetype": "text/x-python",
   "name": "python",
   "nbconvert_exporter": "python",
   "pygments_lexer": "ipython3",
   "version": "3.11.4"
  }
 },
 "nbformat": 4,
 "nbformat_minor": 2
}
